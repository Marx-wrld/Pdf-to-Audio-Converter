{
 "cells": [
  {
   "cell_type": "code",
   "execution_count": 4,
   "id": "85e24fa9",
   "metadata": {},
   "outputs": [
    {
     "name": "stdout",
     "output_type": "stream",
     "text": [
      "Collecting pyttsx3\n",
      "  Downloading pyttsx3-2.90-py3-none-any.whl (39 kB)\n",
      "Collecting comtypes (from pyttsx3)\n",
      "  Downloading comtypes-1.2.0-py2.py3-none-any.whl (184 kB)\n",
      "     ------------------------------------ 184.3/184.3 kB 557.9 kB/s eta 0:00:00\n",
      "Collecting pypiwin32 (from pyttsx3)\n",
      "  Downloading pypiwin32-223-py3-none-any.whl (1.7 kB)\n",
      "Requirement already satisfied: pywin32 in c:\\users\\marx\\appdata\\local\\programs\\python\\python310\\lib\\site-packages (from pyttsx3) (304)\n",
      "Installing collected packages: comtypes, pypiwin32, pyttsx3\n",
      "Successfully installed comtypes-1.2.0 pypiwin32-223 pyttsx3-2.90\n",
      "Note: you may need to restart the kernel to use updated packages.\n"
     ]
    }
   ],
   "source": [
    "pip install pyttsx3"
   ]
  },
  {
   "cell_type": "code",
   "execution_count": 5,
   "id": "24ba3686",
   "metadata": {},
   "outputs": [],
   "source": [
    "import PyPDF2, pyttsx3"
   ]
  },
  {
   "cell_type": "code",
   "execution_count": 8,
   "id": "c5307a8d",
   "metadata": {},
   "outputs": [],
   "source": [
    "path = open('Social Engineering_The Art of Human Hacking-Wiley.pdf', 'rb') #importing pdf"
   ]
  },
  {
   "cell_type": "code",
   "execution_count": 10,
   "id": "8f51824b",
   "metadata": {},
   "outputs": [],
   "source": [
    "PdfRead = PyPDF2.PdfReader(path) #creating a pdf file reader object"
   ]
  },
  {
   "cell_type": "code",
   "execution_count": 11,
   "id": "d50d9978",
   "metadata": {},
   "outputs": [],
   "source": [
    "speak = pyttsx3.init() #getting an engine instance for the speech synthesis"
   ]
  },
  {
   "cell_type": "code",
   "execution_count": null,
   "id": "0b650969",
   "metadata": {},
   "outputs": [],
   "source": [
    "for pages in range(len(PdfRead.pages)):  #page content to audio conversion\n",
    "    text = PdfRead.pages[pages].extract_text()\n",
    "    speak.say(text)\n",
    "    speak.runAndWait()\n",
    "speak.stop()\n",
    "path.close()"
   ]
  },
  {
   "cell_type": "code",
   "execution_count": null,
   "id": "8f8ff518",
   "metadata": {},
   "outputs": [],
   "source": []
  }
 ],
 "metadata": {
  "kernelspec": {
   "display_name": "Python 3 (ipykernel)",
   "language": "python",
   "name": "python3"
  },
  "language_info": {
   "codemirror_mode": {
    "name": "ipython",
    "version": 3
   },
   "file_extension": ".py",
   "mimetype": "text/x-python",
   "name": "python",
   "nbconvert_exporter": "python",
   "pygments_lexer": "ipython3",
   "version": "3.10.4"
  }
 },
 "nbformat": 4,
 "nbformat_minor": 5
}
